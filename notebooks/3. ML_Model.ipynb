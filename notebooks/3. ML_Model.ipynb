{
 "cells": [
  {
   "cell_type": "markdown",
   "metadata": {},
   "source": [
    "# ML Models\n",
    "---"
   ]
  },
  {
   "cell_type": "markdown",
   "metadata": {},
   "source": [
    "## Libraries"
   ]
  },
  {
   "cell_type": "code",
   "execution_count": 13,
   "metadata": {},
   "outputs": [],
   "source": [
    "import pandas as pd\n",
    "import numpy as np\n",
    "\n",
    "import warnings \n",
    "warnings.filterwarnings(\"ignore\")\n",
    "\n",
    "import re\n",
    "\n",
    "import seaborn as sns\n",
    "import matplotlib.pyplot as plt\n",
    "sns.set_theme(palette=\"muted\")\n",
    "\n",
    "from sklearn.model_selection import train_test_split \n",
    "from sklearn.preprocessing import MinMaxScaler\n",
    "from sklearn.dummy import DummyRegressor\n",
    "from sklearn.linear_model import LinearRegression\n",
    "from sklearn.ensemble import RandomForestRegressor\n",
    "from sklearn.neural_network import MLPRegressor\n",
    "from sklearn.metrics import mean_absolute_error, root_mean_squared_error, r2_score\n",
    "from xgboost import XGBRegressor\n",
    "\n",
    "\n",
    "from sklearn.model_selection import GridSearchCV\n",
    "\n",
    "from sklearn.model_selection import cross_val_score\n",
    "from sklearn.model_selection import validation_curve\n",
    "\n",
    "import matplotlib.pyplot as plt\n",
    "\n",
    "\n",
    "from scipy.stats import bootstrap"
   ]
  },
  {
   "cell_type": "markdown",
   "metadata": {},
   "source": [
    "---\n",
    "## Load data"
   ]
  },
  {
   "cell_type": "code",
   "execution_count": 14,
   "metadata": {},
   "outputs": [],
   "source": [
    "# Original dataset after ETL\n",
    "df = pd.read_csv('..\\\\datasets\\\\2. Processed Dataset\\\\result.csv')\n",
    "df = df.drop(columns=[\"id\"], errors=\"ignore\")\n",
    "# PCA dataset + One-Hotenconded\n",
    "df_pca = pd.read_csv('..\\\\datasets\\\\2. Processed Dataset\\\\pca_result.csv')"
   ]
  },
  {
   "cell_type": "markdown",
   "metadata": {},
   "source": [
    "---\n",
    "# Compute Metrics"
   ]
  },
  {
   "cell_type": "code",
   "execution_count": 15,
   "metadata": {},
   "outputs": [],
   "source": [
    "def compute_metrics(y_true, y_pred):\n",
    "    return {\n",
    "        \"MAE\": f\"{mean_absolute_error(y_true, y_pred):.2f}\",\n",
    "        \"RMSE\": f\"{root_mean_squared_error(y_true, y_pred):.2f}\",\n",
    "        \"%RMSE\": f\"{(root_mean_squared_error(y_true, y_pred) / y_true.mean()) * 100 :.2f}\",\n",
    "        \"R²\": f\"{r2_score(y_true, y_pred):.2f}\"\n",
    "    }"
   ]
  },
  {
   "cell_type": "markdown",
   "metadata": {},
   "source": [
    "---\n",
    "## First approach models training"
   ]
  },
  {
   "cell_type": "code",
   "execution_count": 16,
   "metadata": {},
   "outputs": [],
   "source": [
    "# Split of the dataset into features and target\n",
    "X = df_pca\n",
    "y = df['Salary'] \n",
    "\n",
    "# Split data into training and test\n",
    "X_train, X_test, y_train, y_test = train_test_split(X, y, test_size = 0.25, random_state=0) # 25% test\n",
    "\n",
    "# Standardize Salary\n",
    "scaler_y = MinMaxScaler()\n",
    "y_train_scaled = scaler_y.fit_transform(y_train.values.reshape(-1, 1)).ravel()\n",
    "y_test_scaled = scaler_y.transform(y_test.values.reshape(-1, 1)).ravel()\n",
    "\n",
    "# Initialize and train models\n",
    "models = {\n",
    "    \"Linear Regression\": LinearRegression(),\n",
    "    \"Random Forest\": RandomForestRegressor(n_estimators=100, random_state=0),\n",
    "    \"XGBoost\": XGBRegressor(n_estimators=100, learning_rate=0.1, random_state=0),\n",
    "    \"Neural Network\": MLPRegressor(hidden_layer_sizes=(64, 32), max_iter=500, random_state=0)\n",
    "}\n"
   ]
  },
  {
   "cell_type": "code",
   "execution_count": 17,
   "metadata": {},
   "outputs": [
    {
     "data": {
      "application/vnd.microsoft.datawrangler.viewer.v0+json": {
       "columns": [
        {
         "name": "index",
         "rawType": "object",
         "type": "string"
        },
        {
         "name": "MAE",
         "rawType": "object",
         "type": "string"
        },
        {
         "name": "RMSE",
         "rawType": "object",
         "type": "string"
        },
        {
         "name": "%RMSE",
         "rawType": "object",
         "type": "string"
        },
        {
         "name": "R²",
         "rawType": "object",
         "type": "string"
        }
       ],
       "conversionMethod": "pd.DataFrame",
       "ref": "7e80567e-c7f4-4589-b22f-5c1bb74d2336",
       "rows": [
        [
         "Linear Regression",
         "9580.00",
         "13087.34",
         "13.08",
         "0.93"
        ],
        [
         "Random Forest",
         "7737.37",
         "11778.31",
         "11.77",
         "0.94"
        ],
        [
         "XGBoost",
         "8030.99",
         "12429.49",
         "12.42",
         "0.93"
        ],
        [
         "Neural Network",
         "9782.02",
         "12843.88",
         "12.84",
         "0.93"
        ]
       ],
       "shape": {
        "columns": 4,
        "rows": 4
       }
      },
      "text/html": [
       "<div>\n",
       "<style scoped>\n",
       "    .dataframe tbody tr th:only-of-type {\n",
       "        vertical-align: middle;\n",
       "    }\n",
       "\n",
       "    .dataframe tbody tr th {\n",
       "        vertical-align: top;\n",
       "    }\n",
       "\n",
       "    .dataframe thead th {\n",
       "        text-align: right;\n",
       "    }\n",
       "</style>\n",
       "<table border=\"1\" class=\"dataframe\">\n",
       "  <thead>\n",
       "    <tr style=\"text-align: right;\">\n",
       "      <th></th>\n",
       "      <th>MAE</th>\n",
       "      <th>RMSE</th>\n",
       "      <th>%RMSE</th>\n",
       "      <th>R²</th>\n",
       "    </tr>\n",
       "  </thead>\n",
       "  <tbody>\n",
       "    <tr>\n",
       "      <th>Linear Regression</th>\n",
       "      <td>9580.00</td>\n",
       "      <td>13087.34</td>\n",
       "      <td>13.08</td>\n",
       "      <td>0.93</td>\n",
       "    </tr>\n",
       "    <tr>\n",
       "      <th>Random Forest</th>\n",
       "      <td>7737.37</td>\n",
       "      <td>11778.31</td>\n",
       "      <td>11.77</td>\n",
       "      <td>0.94</td>\n",
       "    </tr>\n",
       "    <tr>\n",
       "      <th>XGBoost</th>\n",
       "      <td>8030.99</td>\n",
       "      <td>12429.49</td>\n",
       "      <td>12.42</td>\n",
       "      <td>0.93</td>\n",
       "    </tr>\n",
       "    <tr>\n",
       "      <th>Neural Network</th>\n",
       "      <td>9782.02</td>\n",
       "      <td>12843.88</td>\n",
       "      <td>12.84</td>\n",
       "      <td>0.93</td>\n",
       "    </tr>\n",
       "  </tbody>\n",
       "</table>\n",
       "</div>"
      ],
      "text/plain": [
       "                       MAE      RMSE  %RMSE    R²\n",
       "Linear Regression  9580.00  13087.34  13.08  0.93\n",
       "Random Forest      7737.37  11778.31  11.77  0.94\n",
       "XGBoost            8030.99  12429.49  12.42  0.93\n",
       "Neural Network     9782.02  12843.88  12.84  0.93"
      ]
     },
     "execution_count": 17,
     "metadata": {},
     "output_type": "execute_result"
    }
   ],
   "source": [
    "results = {}\n",
    "for name, model in models.items():\n",
    "    model.fit(X_train, y_train_scaled)\n",
    "    y_pred_scaled = model.predict(X_test)\n",
    "    y_pred = scaler_y.inverse_transform(y_pred_scaled.reshape(-1, 1)).ravel()\n",
    "    results[name] = compute_metrics(y_test, y_pred)\n",
    "\n",
    "# Mostrar resultados en DataFrame\n",
    "df_results = pd.DataFrame(results).T\n",
    "df_results"
   ]
  },
  {
   "cell_type": "markdown",
   "metadata": {},
   "source": [
    "---\n",
    "### Model Hyperparameter Tunning with Grid Search"
   ]
  },
  {
   "cell_type": "code",
   "execution_count": 18,
   "metadata": {},
   "outputs": [],
   "source": [
    "# Hyperparameter grids\n",
    "param_grids = {\n",
    "    \"Linear Regression\": {},\n",
    "    \"Random Forest\": {\n",
    "        \"n_estimators\": [100, 200, 300],\n",
    "        \"max_depth\": [2, 4, 8, 10, 20, None],\n",
    "        \"min_samples_split\": [2, 5, 10, 20]  \n",
    "    },\n",
    "    \"XGBoost\": {\n",
    "        \"n_estimators\": [50, 100, 200],\n",
    "        \"max_depth\": [3, 6, 10],\n",
    "        \"learning_rate\": [0.01, 0.1, 0.2],\n",
    "    },\n",
    "    \"Neural Network\": {\n",
    "        'hidden_layer_sizes': [(64,), (128, 64), (64, 32)],\n",
    "        'alpha': [0.0001, 0.001, 0.01],\n",
    "        'learning_rate_init': [0.001, 0.01, 0.1]\n",
    "    }\n",
    "}\n",
    "\n",
    "# Initialize models\n",
    "models = {\n",
    "    \"Linear Regression\":LinearRegression(),\n",
    "    \"Random Forest\": RandomForestRegressor(random_state=0),\n",
    "    \"XGBoost\": XGBRegressor(random_state=0),\n",
    "    \"Neural Network\": MLPRegressor(max_iter=500, random_state=0)\n",
    "}"
   ]
  },
  {
   "cell_type": "code",
   "execution_count": 19,
   "metadata": {},
   "outputs": [
    {
     "name": "stdout",
     "output_type": "stream",
     "text": [
      "✅ Best params for Linear Regression: {}\n",
      "✅ Best params for Random Forest: {'max_depth': 8, 'min_samples_split': 10, 'n_estimators': 300}\n",
      "✅ Best params for XGBoost: {'learning_rate': 0.1, 'max_depth': 3, 'n_estimators': 100}\n",
      "✅ Best params for Neural Network: {'alpha': 0.01, 'hidden_layer_sizes': (64, 32), 'learning_rate_init': 0.01}\n"
     ]
    },
    {
     "data": {
      "application/vnd.microsoft.datawrangler.viewer.v0+json": {
       "columns": [
        {
         "name": "index",
         "rawType": "object",
         "type": "string"
        },
        {
         "name": "MAE",
         "rawType": "object",
         "type": "string"
        },
        {
         "name": "RMSE",
         "rawType": "object",
         "type": "string"
        },
        {
         "name": "%RMSE",
         "rawType": "object",
         "type": "string"
        },
        {
         "name": "R²",
         "rawType": "object",
         "type": "string"
        }
       ],
       "conversionMethod": "pd.DataFrame",
       "ref": "517a8b72-63d5-4ab5-b865-480d940469f4",
       "rows": [
        [
         "Linear Regression",
         "9580.00",
         "13087.34",
         "13.08",
         "0.93"
        ],
        [
         "Random Forest",
         "8281.45",
         "12637.87",
         "12.63",
         "0.93"
        ],
        [
         "XGBoost",
         "8645.05",
         "12102.86",
         "12.10",
         "0.94"
        ],
        [
         "Neural Network",
         "6906.78",
         "9880.52",
         "9.87",
         "0.96"
        ]
       ],
       "shape": {
        "columns": 4,
        "rows": 4
       }
      },
      "text/html": [
       "<div>\n",
       "<style scoped>\n",
       "    .dataframe tbody tr th:only-of-type {\n",
       "        vertical-align: middle;\n",
       "    }\n",
       "\n",
       "    .dataframe tbody tr th {\n",
       "        vertical-align: top;\n",
       "    }\n",
       "\n",
       "    .dataframe thead th {\n",
       "        text-align: right;\n",
       "    }\n",
       "</style>\n",
       "<table border=\"1\" class=\"dataframe\">\n",
       "  <thead>\n",
       "    <tr style=\"text-align: right;\">\n",
       "      <th></th>\n",
       "      <th>MAE</th>\n",
       "      <th>RMSE</th>\n",
       "      <th>%RMSE</th>\n",
       "      <th>R²</th>\n",
       "    </tr>\n",
       "  </thead>\n",
       "  <tbody>\n",
       "    <tr>\n",
       "      <th>Linear Regression</th>\n",
       "      <td>9580.00</td>\n",
       "      <td>13087.34</td>\n",
       "      <td>13.08</td>\n",
       "      <td>0.93</td>\n",
       "    </tr>\n",
       "    <tr>\n",
       "      <th>Random Forest</th>\n",
       "      <td>8281.45</td>\n",
       "      <td>12637.87</td>\n",
       "      <td>12.63</td>\n",
       "      <td>0.93</td>\n",
       "    </tr>\n",
       "    <tr>\n",
       "      <th>XGBoost</th>\n",
       "      <td>8645.05</td>\n",
       "      <td>12102.86</td>\n",
       "      <td>12.10</td>\n",
       "      <td>0.94</td>\n",
       "    </tr>\n",
       "    <tr>\n",
       "      <th>Neural Network</th>\n",
       "      <td>6906.78</td>\n",
       "      <td>9880.52</td>\n",
       "      <td>9.87</td>\n",
       "      <td>0.96</td>\n",
       "    </tr>\n",
       "  </tbody>\n",
       "</table>\n",
       "</div>"
      ],
      "text/plain": [
       "                       MAE      RMSE  %RMSE    R²\n",
       "Linear Regression  9580.00  13087.34  13.08  0.93\n",
       "Random Forest      8281.45  12637.87  12.63  0.93\n",
       "XGBoost            8645.05  12102.86  12.10  0.94\n",
       "Neural Network     6906.78   9880.52   9.87  0.96"
      ]
     },
     "execution_count": 19,
     "metadata": {},
     "output_type": "execute_result"
    }
   ],
   "source": [
    "# Train models with hyperparameter tuning\n",
    "best_models = {}\n",
    "for name, model in models.items():\n",
    "    if name in param_grids:\n",
    "        search = GridSearchCV(model, param_grids[name], cv=5, scoring=\"neg_root_mean_squared_error\", n_jobs=-1)\n",
    "        search.fit(X_train, y_train_scaled)\n",
    "        best_models[name] = search.best_estimator_\n",
    "        print(f\"✅ Best params for {name}: {search.best_params_}\")\n",
    "    else:\n",
    "        model.fit(X_train, y_train_scaled)\n",
    "        best_models[name] = model\n",
    "\n",
    "# Compute and display model metrics\n",
    "for name, model in best_models.items():\n",
    "    y_pred_scaled = model.predict(X_test)\n",
    "    y_pred = scaler_y.inverse_transform(y_pred_scaled.reshape(-1, 1)).ravel()\n",
    "    results[name] = compute_metrics(y_test, y_pred)\n",
    "\n",
    "df_results = pd.DataFrame(results).T\n",
    "df_results"
   ]
  },
  {
   "cell_type": "markdown",
   "metadata": {},
   "source": [
    "---\n",
    "## Overfitting Evaluation"
   ]
  },
  {
   "cell_type": "markdown",
   "metadata": {},
   "source": [
    "### Compare Training vs. Test Performance"
   ]
  },
  {
   "cell_type": "code",
   "execution_count": 20,
   "metadata": {},
   "outputs": [
    {
     "data": {
      "application/vnd.microsoft.datawrangler.viewer.v0+json": {
       "columns": [
        {
         "name": "index",
         "rawType": "int64",
         "type": "integer"
        },
        {
         "name": "Model",
         "rawType": "object",
         "type": "string"
        },
        {
         "name": "Train_R²",
         "rawType": "object",
         "type": "string"
        },
        {
         "name": "Test_R²",
         "rawType": "object",
         "type": "string"
        },
        {
         "name": "Train_RMSE",
         "rawType": "object",
         "type": "string"
        },
        {
         "name": "Test_RMSE",
         "rawType": "object",
         "type": "string"
        },
        {
         "name": "Train_MAE",
         "rawType": "object",
         "type": "string"
        },
        {
         "name": "Test_MAE",
         "rawType": "object",
         "type": "string"
        },
        {
         "name": "Train_%RMSE",
         "rawType": "object",
         "type": "string"
        },
        {
         "name": "Test_%RMSE",
         "rawType": "object",
         "type": "string"
        }
       ],
       "conversionMethod": "pd.DataFrame",
       "ref": "7c302bc5-8be1-4e6e-bca3-25baaa546cbf",
       "rows": [
        [
         "0",
         "Linear Regression",
         "0.92",
         "0.93",
         "13623.02",
         "13087.34",
         "9650.31",
         "9580.00",
         "13.50",
         "13.08"
        ],
        [
         "1",
         "Random Forest",
         "0.97",
         "0.93",
         "8432.13",
         "12637.87",
         "5748.04",
         "8281.45",
         "8.36",
         "12.63"
        ],
        [
         "2",
         "XGBoost",
         "0.98",
         "0.94",
         "7306.06",
         "12102.86",
         "5296.12",
         "8645.05",
         "7.24",
         "12.10"
        ],
        [
         "3",
         "Neural Network",
         "0.95",
         "0.96",
         "10943.24",
         "9880.52",
         "7611.28",
         "6906.78",
         "10.85",
         "9.87"
        ]
       ],
       "shape": {
        "columns": 9,
        "rows": 4
       }
      },
      "text/html": [
       "<div>\n",
       "<style scoped>\n",
       "    .dataframe tbody tr th:only-of-type {\n",
       "        vertical-align: middle;\n",
       "    }\n",
       "\n",
       "    .dataframe tbody tr th {\n",
       "        vertical-align: top;\n",
       "    }\n",
       "\n",
       "    .dataframe thead th {\n",
       "        text-align: right;\n",
       "    }\n",
       "</style>\n",
       "<table border=\"1\" class=\"dataframe\">\n",
       "  <thead>\n",
       "    <tr style=\"text-align: right;\">\n",
       "      <th></th>\n",
       "      <th>Model</th>\n",
       "      <th>Train_R²</th>\n",
       "      <th>Test_R²</th>\n",
       "      <th>Train_RMSE</th>\n",
       "      <th>Test_RMSE</th>\n",
       "      <th>Train_MAE</th>\n",
       "      <th>Test_MAE</th>\n",
       "      <th>Train_%RMSE</th>\n",
       "      <th>Test_%RMSE</th>\n",
       "    </tr>\n",
       "  </thead>\n",
       "  <tbody>\n",
       "    <tr>\n",
       "      <th>0</th>\n",
       "      <td>Linear Regression</td>\n",
       "      <td>0.92</td>\n",
       "      <td>0.93</td>\n",
       "      <td>13623.02</td>\n",
       "      <td>13087.34</td>\n",
       "      <td>9650.31</td>\n",
       "      <td>9580.00</td>\n",
       "      <td>13.50</td>\n",
       "      <td>13.08</td>\n",
       "    </tr>\n",
       "    <tr>\n",
       "      <th>1</th>\n",
       "      <td>Random Forest</td>\n",
       "      <td>0.97</td>\n",
       "      <td>0.93</td>\n",
       "      <td>8432.13</td>\n",
       "      <td>12637.87</td>\n",
       "      <td>5748.04</td>\n",
       "      <td>8281.45</td>\n",
       "      <td>8.36</td>\n",
       "      <td>12.63</td>\n",
       "    </tr>\n",
       "    <tr>\n",
       "      <th>2</th>\n",
       "      <td>XGBoost</td>\n",
       "      <td>0.98</td>\n",
       "      <td>0.94</td>\n",
       "      <td>7306.06</td>\n",
       "      <td>12102.86</td>\n",
       "      <td>5296.12</td>\n",
       "      <td>8645.05</td>\n",
       "      <td>7.24</td>\n",
       "      <td>12.10</td>\n",
       "    </tr>\n",
       "    <tr>\n",
       "      <th>3</th>\n",
       "      <td>Neural Network</td>\n",
       "      <td>0.95</td>\n",
       "      <td>0.96</td>\n",
       "      <td>10943.24</td>\n",
       "      <td>9880.52</td>\n",
       "      <td>7611.28</td>\n",
       "      <td>6906.78</td>\n",
       "      <td>10.85</td>\n",
       "      <td>9.87</td>\n",
       "    </tr>\n",
       "  </tbody>\n",
       "</table>\n",
       "</div>"
      ],
      "text/plain": [
       "               Model Train_R² Test_R² Train_RMSE Test_RMSE Train_MAE Test_MAE  \\\n",
       "0  Linear Regression     0.92    0.93   13623.02  13087.34   9650.31  9580.00   \n",
       "1      Random Forest     0.97    0.93    8432.13  12637.87   5748.04  8281.45   \n",
       "2            XGBoost     0.98    0.94    7306.06  12102.86   5296.12  8645.05   \n",
       "3     Neural Network     0.95    0.96   10943.24   9880.52   7611.28  6906.78   \n",
       "\n",
       "  Train_%RMSE Test_%RMSE  \n",
       "0       13.50      13.08  \n",
       "1        8.36      12.63  \n",
       "2        7.24      12.10  \n",
       "3       10.85       9.87  "
      ]
     },
     "execution_count": 20,
     "metadata": {},
     "output_type": "execute_result"
    }
   ],
   "source": [
    "# Evaluatiing models\n",
    "def evaluate_models(models, X_train, y_train, X_test, y_test, scaler_y):\n",
    "    results = []  \n",
    "    for name, model in models.items():\n",
    "        y_train_pred_scaled = model.predict(X_train)\n",
    "        y_test_pred_scaled = model.predict(X_test)\n",
    "\n",
    "        # Inverse scale predictions\n",
    "        y_train_pred = scaler_y.inverse_transform(y_train_pred_scaled.reshape(-1, 1)).ravel()\n",
    "        y_test_pred = scaler_y.inverse_transform(y_test_pred_scaled.reshape(-1, 1)).ravel()\n",
    "\n",
    "        # Compute training and test metrics\n",
    "        train_metrics = compute_metrics(y_train, y_train_pred)\n",
    "        test_metrics = compute_metrics(y_test, y_test_pred)\n",
    "\n",
    "        # Append results\n",
    "        results.append({\n",
    "            \"Model\": name,\n",
    "            \"Train_R²\": train_metrics[\"R²\"],\n",
    "            \"Test_R²\": test_metrics[\"R²\"],\n",
    "            \"Train_RMSE\": train_metrics[\"RMSE\"],\n",
    "            \"Test_RMSE\": test_metrics[\"RMSE\"],\n",
    "            \"Train_MAE\": train_metrics[\"MAE\"],\n",
    "            \"Test_MAE\": test_metrics[\"MAE\"],\n",
    "            \"Train_%RMSE\": train_metrics[\"%RMSE\"],\n",
    "            \"Test_%RMSE\": test_metrics[\"%RMSE\"]\n",
    "        })\n",
    "\n",
    "    # DataFrame\n",
    "    df_results = pd.DataFrame(results)\n",
    "    return df_results\n",
    "\n",
    "# Apply this function to all trained models\n",
    "df_results = evaluate_models(best_models, X_train, y_train, X_test, y_test, scaler_y)\n",
    "df_results"
   ]
  },
  {
   "cell_type": "markdown",
   "metadata": {},
   "source": [
    "### Cross-Validation"
   ]
  },
  {
   "cell_type": "code",
   "execution_count": 21,
   "metadata": {},
   "outputs": [
    {
     "data": {
      "application/vnd.microsoft.datawrangler.viewer.v0+json": {
       "columns": [
        {
         "name": "index",
         "rawType": "int64",
         "type": "integer"
        },
        {
         "name": "Model",
         "rawType": "object",
         "type": "string"
        },
        {
         "name": "CV_Mean_R²",
         "rawType": "float64",
         "type": "float"
        },
        {
         "name": "CV_Std_R²",
         "rawType": "float64",
         "type": "float"
        }
       ],
       "conversionMethod": "pd.DataFrame",
       "ref": "5c4ba548-0b60-413a-ac60-c27f88bedb29",
       "rows": [
        [
         "0",
         "Linear Regression",
         "0.9",
         "0.05"
        ],
        [
         "1",
         "Random Forest",
         "0.89",
         "0.07"
        ],
        [
         "2",
         "XGBoost",
         "0.9",
         "0.05"
        ],
        [
         "3",
         "Neural Network",
         "0.92",
         "0.03"
        ]
       ],
       "shape": {
        "columns": 3,
        "rows": 4
       }
      },
      "text/html": [
       "<div>\n",
       "<style scoped>\n",
       "    .dataframe tbody tr th:only-of-type {\n",
       "        vertical-align: middle;\n",
       "    }\n",
       "\n",
       "    .dataframe tbody tr th {\n",
       "        vertical-align: top;\n",
       "    }\n",
       "\n",
       "    .dataframe thead th {\n",
       "        text-align: right;\n",
       "    }\n",
       "</style>\n",
       "<table border=\"1\" class=\"dataframe\">\n",
       "  <thead>\n",
       "    <tr style=\"text-align: right;\">\n",
       "      <th></th>\n",
       "      <th>Model</th>\n",
       "      <th>CV_Mean_R²</th>\n",
       "      <th>CV_Std_R²</th>\n",
       "    </tr>\n",
       "  </thead>\n",
       "  <tbody>\n",
       "    <tr>\n",
       "      <th>0</th>\n",
       "      <td>Linear Regression</td>\n",
       "      <td>0.90</td>\n",
       "      <td>0.05</td>\n",
       "    </tr>\n",
       "    <tr>\n",
       "      <th>1</th>\n",
       "      <td>Random Forest</td>\n",
       "      <td>0.89</td>\n",
       "      <td>0.07</td>\n",
       "    </tr>\n",
       "    <tr>\n",
       "      <th>2</th>\n",
       "      <td>XGBoost</td>\n",
       "      <td>0.90</td>\n",
       "      <td>0.05</td>\n",
       "    </tr>\n",
       "    <tr>\n",
       "      <th>3</th>\n",
       "      <td>Neural Network</td>\n",
       "      <td>0.92</td>\n",
       "      <td>0.03</td>\n",
       "    </tr>\n",
       "  </tbody>\n",
       "</table>\n",
       "</div>"
      ],
      "text/plain": [
       "               Model  CV_Mean_R²  CV_Std_R²\n",
       "0  Linear Regression        0.90       0.05\n",
       "1      Random Forest        0.89       0.07\n",
       "2            XGBoost        0.90       0.05\n",
       "3     Neural Network        0.92       0.03"
      ]
     },
     "execution_count": 21,
     "metadata": {},
     "output_type": "execute_result"
    }
   ],
   "source": [
    "y_scaled = scaler_y.fit_transform(y.values.reshape(-1, 1)).ravel()\n",
    "\n",
    "def cross_validate_models(models, X, y, cv=5):\n",
    "    results = []\n",
    "\n",
    "    y_scaled = scaler_y.fit_transform(y.values.reshape(-1, 1)).ravel()\n",
    "\n",
    "    for name, model in models.items():\n",
    "        scores = cross_val_score(model, X, y_scaled, cv=cv, scoring='r2', n_jobs=-1)\n",
    "        \n",
    "        # Append results\n",
    "        results.append({\n",
    "            \"Model\": name,\n",
    "            \"CV_Mean_R²\": round(scores.mean(), 2),\n",
    "            \"CV_Std_R²\": round(scores.std(), 2)\n",
    "        })\n",
    "\n",
    "    # DataFrame\n",
    "    df_cv_results = pd.DataFrame(results)\n",
    "    return df_cv_results\n",
    "\n",
    "# Apply this function to all trained models\n",
    "df_cv_results = cross_validate_models(best_models, X, y, cv=5)\n",
    "df_cv_results"
   ]
  },
  {
   "cell_type": "markdown",
   "metadata": {},
   "source": [
    "### Conclusions\n",
    "- Linear Regression\n",
    "    - Train R²: 0.92 | Test R²: 0.93 - Train and Test R² are close what suggest is doing a good generalization.\n",
    "    - RMSE values are also close → No large performance drop.\n",
    "    - Cross-validation confirms stability (0.90 ± 0.05)\n",
    "    \n",
    "- Random Forest: \n",
    "    - Train R²: 0.97 | Test R²: 0.93 - R2 Train is much grater than Test R2, the model is overfitting.\n",
    "    - Train RMSE (8432.13) vs Test RMSE (12637.87) - Large gap suggests overfitting\n",
    "    \n",
    "- XGBoost\n",
    "    - Train R²: 0.98 | Test R²: 0.94 and Train RMSE: 7306.06 | Test RMSE: 12102.86 the model is overfitting.\n",
    "    - Cross-validation is stable (0.90 ± 0.05)\n",
    "    - Second best model with a slight overfitting bus stable performance.\n",
    "\n",
    "- Neural Network:\n",
    "    - Train R²: 0.95 | Test R²: 0.96 and Train RMSE: 10943.24 | Test RMSE: 9880.52 shows a balance model and no major overfitting despite being a more complex model.\n",
    "    - Cross-Validation shows highest mean R² (0.92) with lowest variance (±0.03) suggesting a strong generalization to unseen data.\n",
    "    - Best overall model"
   ]
  },
  {
   "cell_type": "code",
   "execution_count": null,
   "metadata": {},
   "outputs": [],
   "source": [
    "# Diccionario para almacenar métricas de Bootstrap\n",
    "boot_metrics = {\"MAE\": [], \"RMSE\": [], \"R²\": []}\n",
    "num_bootstrap = 1000\n",
    "\n",
    "# Bootstrap loop\n",
    "for _ in range(num_bootstrap):\n",
    "    indices = np.random.choice(len(y_test), size=len(y_test), replace=True)\n",
    "    y_test_sample = y_test.iloc[indices]  # Selección correcta con iloc\n",
    "    y_pred_sample = scaler_y.inverse_transform(best_models[\"Random Forest\"].predict(X_test.iloc[indices]).reshape(-1, 1)).ravel()\n",
    "    \n",
    "    # Guardar métricas\n",
    "    boot_metrics[\"MAE\"].append(mean_absolute_error(y_test_sample, y_pred_sample))\n",
    "    boot_metrics[\"RMSE\"].append(root_mean_squared_error(y_test_sample, y_pred_sample))\n",
    "    boot_metrics[\"R²\"].append(r2_score(y_test_sample, y_pred_sample))\n",
    "\n",
    "# Calcular intervalos de confianza del 95%\n",
    "ci_95 = {metric: (np.percentile(values, 2.5), np.percentile(values, 97.5)) for metric, values in boot_metrics.items()}\n",
    "\n",
    "# Convertir resultados en DataFrame\n",
    "df_ci_95 = pd.DataFrame(ci_95, index=[\"Lower Bound\", \"Upper Bound\"]).T\n",
    "\n",
    "# Mostrar resultados\n",
    "print(df_ci_95)"
   ]
  }
 ],
 "metadata": {
  "kernelspec": {
   "display_name": "Python 3",
   "language": "python",
   "name": "python3"
  },
  "language_info": {
   "codemirror_mode": {
    "name": "ipython",
    "version": 3
   },
   "file_extension": ".py",
   "mimetype": "text/x-python",
   "name": "python",
   "nbconvert_exporter": "python",
   "pygments_lexer": "ipython3",
   "version": "3.12.1"
  }
 },
 "nbformat": 4,
 "nbformat_minor": 2
}
