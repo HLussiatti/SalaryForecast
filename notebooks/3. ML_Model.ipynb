{
 "cells": [
  {
   "cell_type": "markdown",
   "metadata": {},
   "source": [
    "# ML Models\n",
    "---"
   ]
  },
  {
   "cell_type": "markdown",
   "metadata": {},
   "source": [
    "## Libraries"
   ]
  },
  {
   "cell_type": "code",
   "execution_count": 49,
   "metadata": {},
   "outputs": [],
   "source": [
    "import pandas as pd\n",
    "import numpy as np\n",
    "\n",
    "import warnings \n",
    "warnings.filterwarnings(\"ignore\")\n",
    "\n",
    "import re\n",
    "\n",
    "import seaborn as sns\n",
    "import matplotlib.pyplot as plt\n",
    "sns.set_theme(palette=\"muted\")\n",
    "\n",
    "from sklearn.model_selection import train_test_split \n",
    "from sklearn.dummy import DummyRegressor\n",
    "from sklearn.ensemble import RandomForestRegressor\n",
    "from sklearn.metrics import mean_absolute_error, mean_squared_error, r2_score\n",
    "from scipy.stats import bootstrap"
   ]
  },
  {
   "cell_type": "markdown",
   "metadata": {},
   "source": [
    "---\n",
    "## Load data"
   ]
  },
  {
   "cell_type": "code",
   "execution_count": null,
   "metadata": {},
   "outputs": [],
   "source": []
  },
  {
   "cell_type": "code",
   "execution_count": null,
   "metadata": {},
   "outputs": [],
   "source": [
    "df = pd.read_csv('..\\\\datasets\\\\2. Processed Dataset\\\\result.csv')\n",
    "df = df.drop(columns=[\"id\"], errors=\"ignore\")"
   ]
  },
  {
   "cell_type": "code",
   "execution_count": null,
   "metadata": {},
   "outputs": [],
   "source": [
    "df = pd.read_csv('..\\\\datasets\\\\2. Processed Dataset\\\\result.csv')\n",
    "\n",
    "# Split of the dataset into features and target\n",
    "X = df.drop('Salary',axis=1) \n",
    "y = df['Salary'] \n",
    "\n",
    "# Split data into training and test\n",
    "X_train, X_test, y_train, y_test = train_test_split(X, y, test_size = 0.25, random_state=0) # 25% test\n",
    "\n",
    "# Iniciate and Train models\n",
    "dummy_model = DummyRegressor(strategy=\"mean\")\n",
    "rf_model = RandomForestRegressor(n_estimators=100, random_state=42)\n",
    "\n",
    "dummy_model.fit(X_train, y_train)\n",
    "rf_model.fit(X_train, y_train)\n",
    "\n",
    "# Predictions\n",
    "y_pred_dummy = dummy_model.predict(X_test)\n",
    "y_pred_rf = rf_model.predict(X_test)\n",
    "\n",
    "# Compute metrics\n",
    "def compute_metrics(y_true, y_pred):\n",
    "    return {\n",
    "        \"MAE\": mean_absolute_error(y_true, y_pred),\n",
    "        \"RMSE\": np.sqrt(mean_squared_error(y_true, y_pred)),\n",
    "        \"R2\": r2_score(y_true, y_pred)\n",
    "    }\n",
    "\n",
    "results_dummy = compute_metrics(y_test, y_pred_dummy)\n",
    "results_rf = compute_metrics(y_test, y_pred_rf)"
   ]
  },
  {
   "cell_type": "code",
   "execution_count": 48,
   "metadata": {},
   "outputs": [
    {
     "name": "stdout",
     "output_type": "stream",
     "text": [
      "Dummy Model: {'MAE': np.float64(40690.50882167612), 'RMSE': np.float64(48180.83218379831), 'R2': -0.00029651269527053437}\n",
      "Random Forest Model: {'MAE': np.float64(7069.021739130435), 'RMSE': np.float64(11428.70504095033), 'R2': 0.9437173924934072}\n",
      "95% Confidence Intervals: {'MAE': (np.float64(5389.592391304348), np.float64(8974.85054347826)), 'RMSE': (np.float64(7912.561196785485), np.float64(15138.136084376583)), 'R2': (np.float64(0.8939846585553445), np.float64(0.9726176853210466))}\n"
     ]
    }
   ],
   "source": [
    "# Confidence Intervals\n",
    "boot_metrics = {\"MAE\": [], \"RMSE\": [], \"R2\": []}\n",
    "num_bootstrap = 1000\n",
    "\n",
    "for _ in range(num_bootstrap):\n",
    "    indices = np.random.choice(len(y_test), size=len(y_test), replace=True)\n",
    "    y_test_sample = y_test.iloc[indices]\n",
    "    y_pred_sample = y_pred_rf[indices]\n",
    "    metrics = compute_metrics(y_test_sample, y_pred_sample)\n",
    "    for key in boot_metrics:\n",
    "        boot_metrics[key].append(metrics[key])\n",
    "\n",
    "ci_95 = {metric: (np.percentile(values, 2.5), np.percentile(values, 97.5)) for metric, values in boot_metrics.items()}\n",
    "\n",
    "# Print results\n",
    "print(\"Dummy Model:\", results_dummy)\n",
    "print(\"Random Forest Model:\", results_rf)\n",
    "print(\"95% Confidence Intervals:\", ci_95)"
   ]
  }
 ],
 "metadata": {
  "kernelspec": {
   "display_name": "Python 3",
   "language": "python",
   "name": "python3"
  },
  "language_info": {
   "codemirror_mode": {
    "name": "ipython",
    "version": 3
   },
   "file_extension": ".py",
   "mimetype": "text/x-python",
   "name": "python",
   "nbconvert_exporter": "python",
   "pygments_lexer": "ipython3",
   "version": "3.12.1"
  }
 },
 "nbformat": 4,
 "nbformat_minor": 2
}
