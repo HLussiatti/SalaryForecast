{
 "cells": [
  {
   "cell_type": "markdown",
   "metadata": {},
   "source": [
    "# ML Models\n",
    "---"
   ]
  },
  {
   "cell_type": "markdown",
   "metadata": {},
   "source": [
    "## Libraries"
   ]
  },
  {
   "cell_type": "code",
   "execution_count": 89,
   "metadata": {},
   "outputs": [],
   "source": [
    "import pandas as pd\n",
    "import numpy as np\n",
    "\n",
    "import warnings \n",
    "warnings.filterwarnings(\"ignore\")\n",
    "\n",
    "import re\n",
    "\n",
    "import seaborn as sns\n",
    "import matplotlib.pyplot as plt\n",
    "sns.set_theme(palette=\"muted\")\n",
    "\n",
    "from sklearn.model_selection import train_test_split \n",
    "from sklearn.preprocessing import MinMaxScaler\n",
    "from sklearn.dummy import DummyRegressor\n",
    "from sklearn.linear_model import LinearRegression\n",
    "from sklearn.ensemble import RandomForestRegressor\n",
    "from sklearn.neural_network import MLPRegressor\n",
    "from sklearn.metrics import mean_absolute_error, root_mean_squared_error, r2_score\n",
    "from xgboost import XGBRegressor\n",
    "\n",
    "\n",
    "from sklearn.model_selection import GridSearchCV\n",
    "\n",
    "from sklearn.model_selection import cross_val_score\n",
    "from sklearn.model_selection import validation_curve\n",
    "\n",
    "import matplotlib.pyplot as plt\n",
    "\n",
    "\n",
    "from scipy.stats import bootstrap"
   ]
  },
  {
   "cell_type": "markdown",
   "metadata": {},
   "source": [
    "---\n",
    "## Load data"
   ]
  },
  {
   "cell_type": "code",
   "execution_count": 90,
   "metadata": {},
   "outputs": [],
   "source": [
    "# Original dataset after ETL\n",
    "df = pd.read_csv('..\\\\datasets\\\\2. Processed Dataset\\\\result.csv')\n",
    "df = df.drop(columns=[\"id\"], errors=\"ignore\")\n",
    "# Normalized and PCA dataset + One-Hotenconded\n",
    "df_pca = pd.read_csv('..\\\\datasets\\\\2. Processed Dataset\\\\pca_result.csv')"
   ]
  },
  {
   "cell_type": "markdown",
   "metadata": {},
   "source": [
    "---\n",
    "# Compute Metrics"
   ]
  },
  {
   "cell_type": "code",
   "execution_count": 91,
   "metadata": {},
   "outputs": [],
   "source": [
    "def compute_metrics(y_true, y_pred):\n",
    "    return {\n",
    "        \"MAE\": f\"{mean_absolute_error(y_true, y_pred):.2f}\",\n",
    "        \"RMSE\": f\"{root_mean_squared_error(y_true, y_pred):.2f}\",\n",
    "        \"%RMSE\": f\"{(root_mean_squared_error(y_true, y_pred) / y_true.mean()) * 100 :.2f}\",\n",
    "        \"R²\": f\"{r2_score(y_true, y_pred):.2f}\"\n",
    "    }"
   ]
  },
  {
   "cell_type": "markdown",
   "metadata": {},
   "source": [
    "---\n",
    "## First approach models training"
   ]
  },
  {
   "cell_type": "code",
   "execution_count": 92,
   "metadata": {},
   "outputs": [],
   "source": [
    "# Split of the dataset into features and target\n",
    "X = df_pca\n",
    "y = df['Salary'] \n",
    "\n",
    "# Split data into training and test\n",
    "X_train, X_test, y_train, y_test = train_test_split(X, y, test_size = 0.25, random_state=42) # 25% test\n",
    "\n",
    "# Standardize Salary\n",
    "scaler_y = MinMaxScaler()\n",
    "y_train_scaled = scaler_y.fit_transform(y_train.values.reshape(-1, 1)).ravel()\n",
    "y_test_scaled = scaler_y.transform(y_test.values.reshape(-1, 1)).ravel()\n",
    "\n",
    "# Initialize and train models\n",
    "models = {\n",
    "    \"Linear Regression\": LinearRegression(),\n",
    "    \"Random Forest\": RandomForestRegressor(n_estimators=100, random_state=42),\n",
    "    \"XGBoost\": XGBRegressor(n_estimators=100, learning_rate=0.1, random_state=42),\n",
    "    \"Neural Network\": MLPRegressor(hidden_layer_sizes=(64, 32), max_iter=500, random_state=42)\n",
    "}\n"
   ]
  },
  {
   "cell_type": "code",
   "execution_count": 93,
   "metadata": {},
   "outputs": [
    {
     "data": {
      "application/vnd.microsoft.datawrangler.viewer.v0+json": {
       "columns": [
        {
         "name": "index",
         "rawType": "object",
         "type": "string"
        },
        {
         "name": "MAE",
         "rawType": "object",
         "type": "string"
        },
        {
         "name": "RMSE",
         "rawType": "object",
         "type": "string"
        },
        {
         "name": "%RMSE",
         "rawType": "object",
         "type": "string"
        },
        {
         "name": "R²",
         "rawType": "object",
         "type": "string"
        }
       ],
       "conversionMethod": "pd.DataFrame",
       "ref": "dee26e41-e494-4a96-b634-ef614a13f512",
       "rows": [
        [
         "Linear Regression",
         "11927.44",
         "16714.94",
         "17.10",
         "0.89"
        ],
        [
         "Random Forest",
         "11653.30",
         "18545.28",
         "18.98",
         "0.86"
        ],
        [
         "XGBoost",
         "12682.65",
         "20772.11",
         "21.26",
         "0.83"
        ],
        [
         "Neural Network",
         "11377.02",
         "16100.92",
         "16.48",
         "0.90"
        ]
       ],
       "shape": {
        "columns": 4,
        "rows": 4
       }
      },
      "text/html": [
       "<div>\n",
       "<style scoped>\n",
       "    .dataframe tbody tr th:only-of-type {\n",
       "        vertical-align: middle;\n",
       "    }\n",
       "\n",
       "    .dataframe tbody tr th {\n",
       "        vertical-align: top;\n",
       "    }\n",
       "\n",
       "    .dataframe thead th {\n",
       "        text-align: right;\n",
       "    }\n",
       "</style>\n",
       "<table border=\"1\" class=\"dataframe\">\n",
       "  <thead>\n",
       "    <tr style=\"text-align: right;\">\n",
       "      <th></th>\n",
       "      <th>MAE</th>\n",
       "      <th>RMSE</th>\n",
       "      <th>%RMSE</th>\n",
       "      <th>R²</th>\n",
       "    </tr>\n",
       "  </thead>\n",
       "  <tbody>\n",
       "    <tr>\n",
       "      <th>Linear Regression</th>\n",
       "      <td>11927.44</td>\n",
       "      <td>16714.94</td>\n",
       "      <td>17.10</td>\n",
       "      <td>0.89</td>\n",
       "    </tr>\n",
       "    <tr>\n",
       "      <th>Random Forest</th>\n",
       "      <td>11653.30</td>\n",
       "      <td>18545.28</td>\n",
       "      <td>18.98</td>\n",
       "      <td>0.86</td>\n",
       "    </tr>\n",
       "    <tr>\n",
       "      <th>XGBoost</th>\n",
       "      <td>12682.65</td>\n",
       "      <td>20772.11</td>\n",
       "      <td>21.26</td>\n",
       "      <td>0.83</td>\n",
       "    </tr>\n",
       "    <tr>\n",
       "      <th>Neural Network</th>\n",
       "      <td>11377.02</td>\n",
       "      <td>16100.92</td>\n",
       "      <td>16.48</td>\n",
       "      <td>0.90</td>\n",
       "    </tr>\n",
       "  </tbody>\n",
       "</table>\n",
       "</div>"
      ],
      "text/plain": [
       "                        MAE      RMSE  %RMSE    R²\n",
       "Linear Regression  11927.44  16714.94  17.10  0.89\n",
       "Random Forest      11653.30  18545.28  18.98  0.86\n",
       "XGBoost            12682.65  20772.11  21.26  0.83\n",
       "Neural Network     11377.02  16100.92  16.48  0.90"
      ]
     },
     "execution_count": 93,
     "metadata": {},
     "output_type": "execute_result"
    }
   ],
   "source": [
    "results = {}\n",
    "for name, model in models.items():\n",
    "    model.fit(X_train, y_train_scaled)\n",
    "    y_pred_scaled = model.predict(X_test)\n",
    "    y_pred = scaler_y.inverse_transform(y_pred_scaled.reshape(-1, 1)).ravel()\n",
    "    results[name] = compute_metrics(y_test, y_pred)\n",
    "\n",
    "# Mostrar resultados en DataFrame\n",
    "df_results = pd.DataFrame(results).T\n",
    "df_results"
   ]
  },
  {
   "cell_type": "markdown",
   "metadata": {},
   "source": [
    "---\n",
    "### Model Hyperparameter Tunning with Grid Search"
   ]
  },
  {
   "cell_type": "code",
   "execution_count": 94,
   "metadata": {},
   "outputs": [],
   "source": [
    "# Hyperparameter grids\n",
    "param_grids = {\n",
    "    \"Linear Regression\": {},\n",
    "    \"Random Forest\": {\n",
    "        \"n_estimators\": [100, 200, 300],\n",
    "        \"max_depth\": [2, 4, 8, 10, 20, None],\n",
    "        \"min_samples_split\": [2, 5, 10, 20]  \n",
    "    },\n",
    "    \"XGBoost\": {\n",
    "        \"n_estimators\": [50, 100, 200],\n",
    "        \"max_depth\": [3, 6, 10],\n",
    "        \"learning_rate\": [0.01, 0.1, 0.2],\n",
    "    },\n",
    "    \"Neural Network\": {\n",
    "        'hidden_layer_sizes': [(64,), (128, 64), (64, 32)],\n",
    "        'alpha': [0.0001, 0.001, 0.01, 0.1],\n",
    "        'learning_rate_init': [0.001, 0.01, 0.1]\n",
    "    }\n",
    "}\n",
    "\n",
    "# Initialize models\n",
    "models = {\n",
    "    \"Linear Regression\":LinearRegression(),\n",
    "    \"Random Forest\": RandomForestRegressor(random_state=42),\n",
    "    \"XGBoost\": XGBRegressor(random_state=42),\n",
    "    \"Neural Network\": MLPRegressor(max_iter=500, random_state=42)\n",
    "}"
   ]
  },
  {
   "cell_type": "code",
   "execution_count": 95,
   "metadata": {},
   "outputs": [
    {
     "name": "stdout",
     "output_type": "stream",
     "text": [
      "✅ Best params for Linear Regression: {}\n",
      "✅ Best params for Random Forest: {'max_depth': 10, 'min_samples_split': 5, 'n_estimators': 300}\n",
      "✅ Best params for XGBoost: {'learning_rate': 0.1, 'max_depth': 3, 'n_estimators': 100}\n",
      "✅ Best params for Neural Network: {'alpha': 0.001, 'hidden_layer_sizes': (128, 64), 'learning_rate_init': 0.01}\n"
     ]
    },
    {
     "data": {
      "application/vnd.microsoft.datawrangler.viewer.v0+json": {
       "columns": [
        {
         "name": "index",
         "rawType": "object",
         "type": "string"
        },
        {
         "name": "MAE",
         "rawType": "object",
         "type": "string"
        },
        {
         "name": "RMSE",
         "rawType": "object",
         "type": "string"
        },
        {
         "name": "%RMSE",
         "rawType": "object",
         "type": "string"
        },
        {
         "name": "R²",
         "rawType": "object",
         "type": "string"
        }
       ],
       "conversionMethod": "pd.DataFrame",
       "ref": "a0c7caf6-d7c9-4ae0-b3a4-0dea6fd262df",
       "rows": [
        [
         "Linear Regression",
         "11927.44",
         "16714.94",
         "17.10",
         "0.89"
        ],
        [
         "Random Forest",
         "11355.48",
         "18359.71",
         "18.79",
         "0.87"
        ],
        [
         "XGBoost",
         "12235.51",
         "18555.69",
         "18.99",
         "0.86"
        ],
        [
         "Neural Network",
         "10978.55",
         "15604.75",
         "15.97",
         "0.90"
        ]
       ],
       "shape": {
        "columns": 4,
        "rows": 4
       }
      },
      "text/html": [
       "<div>\n",
       "<style scoped>\n",
       "    .dataframe tbody tr th:only-of-type {\n",
       "        vertical-align: middle;\n",
       "    }\n",
       "\n",
       "    .dataframe tbody tr th {\n",
       "        vertical-align: top;\n",
       "    }\n",
       "\n",
       "    .dataframe thead th {\n",
       "        text-align: right;\n",
       "    }\n",
       "</style>\n",
       "<table border=\"1\" class=\"dataframe\">\n",
       "  <thead>\n",
       "    <tr style=\"text-align: right;\">\n",
       "      <th></th>\n",
       "      <th>MAE</th>\n",
       "      <th>RMSE</th>\n",
       "      <th>%RMSE</th>\n",
       "      <th>R²</th>\n",
       "    </tr>\n",
       "  </thead>\n",
       "  <tbody>\n",
       "    <tr>\n",
       "      <th>Linear Regression</th>\n",
       "      <td>11927.44</td>\n",
       "      <td>16714.94</td>\n",
       "      <td>17.10</td>\n",
       "      <td>0.89</td>\n",
       "    </tr>\n",
       "    <tr>\n",
       "      <th>Random Forest</th>\n",
       "      <td>11355.48</td>\n",
       "      <td>18359.71</td>\n",
       "      <td>18.79</td>\n",
       "      <td>0.87</td>\n",
       "    </tr>\n",
       "    <tr>\n",
       "      <th>XGBoost</th>\n",
       "      <td>12235.51</td>\n",
       "      <td>18555.69</td>\n",
       "      <td>18.99</td>\n",
       "      <td>0.86</td>\n",
       "    </tr>\n",
       "    <tr>\n",
       "      <th>Neural Network</th>\n",
       "      <td>10978.55</td>\n",
       "      <td>15604.75</td>\n",
       "      <td>15.97</td>\n",
       "      <td>0.90</td>\n",
       "    </tr>\n",
       "  </tbody>\n",
       "</table>\n",
       "</div>"
      ],
      "text/plain": [
       "                        MAE      RMSE  %RMSE    R²\n",
       "Linear Regression  11927.44  16714.94  17.10  0.89\n",
       "Random Forest      11355.48  18359.71  18.79  0.87\n",
       "XGBoost            12235.51  18555.69  18.99  0.86\n",
       "Neural Network     10978.55  15604.75  15.97  0.90"
      ]
     },
     "execution_count": 95,
     "metadata": {},
     "output_type": "execute_result"
    }
   ],
   "source": [
    "# Train models with hyperparameter tuning\n",
    "best_models = {}\n",
    "for name, model in models.items():\n",
    "    if name in param_grids:\n",
    "        search = GridSearchCV(model, param_grids[name], cv=5, scoring=\"neg_root_mean_squared_error\", n_jobs=-1)\n",
    "        search.fit(X_train, y_train_scaled)\n",
    "        best_models[name] = search.best_estimator_\n",
    "        print(f\"✅ Best params for {name}: {search.best_params_}\")\n",
    "    else:\n",
    "        model.fit(X_train, y_train_scaled)\n",
    "        best_models[name] = model\n",
    "\n",
    "# Compute and display model metrics\n",
    "for name, model in best_models.items():\n",
    "    y_pred_scaled = model.predict(X_test)\n",
    "    y_pred = scaler_y.inverse_transform(y_pred_scaled.reshape(-1, 1)).ravel()\n",
    "    results[name] = compute_metrics(y_test, y_pred)\n",
    "\n",
    "df_results = pd.DataFrame(results).T\n",
    "df_results"
   ]
  },
  {
   "cell_type": "code",
   "execution_count": 101,
   "metadata": {},
   "outputs": [
    {
     "data": {
      "image/png": "[encoded data removed]",
      "text/plain": [
       "<Figure size 800x600 with 1 Axes>"
      ]
     },
     "metadata": {},
     "output_type": "display_data"
    }
   ],
   "source": [
    "# Obtener predicciones escaladas\n",
    "y_test_pred_scaled = best_models[\"Neural Network\"].predict(X_test)\n",
    "\n",
    "# Aplicar transformación inversa\n",
    "y_test_pred = scaler_y.inverse_transform(y_test_pred_scaled.reshape(-1, 1)).ravel()\n",
    "\n",
    "plt.figure(figsize=(8, 6))\n",
    "plt.scatter(y_test, y_test_pred, alpha=0.5, color='blue', label=\"Predicciones\")\n",
    "plt.plot([y_test.min(), y_test.max()], [y_test.min(), y_test.max()], color='red', linestyle='--', label=\"Perfect Fit\")\n",
    "plt.xlabel(\"Valores Reales (y_test)\")\n",
    "plt.ylabel(\"Predicciones (y_test_pred)\")\n",
    "plt.title(\"Comparación entre Valores Reales y Predicciones\")\n",
    "plt.legend()\n",
    "plt.show()"
   ]
  },
  {
   "cell_type": "markdown",
   "metadata": {},
   "source": [
    "---\n",
    "## Overfitting Evaluation"
   ]
  },
  {
   "cell_type": "markdown",
   "metadata": {},
   "source": [
    "### Compare Training vs. Test Performance"
   ]
  },
  {
   "cell_type": "code",
   "execution_count": 97,
   "metadata": {},
   "outputs": [
    {
     "data": {
      "application/vnd.microsoft.datawrangler.viewer.v0+json": {
       "columns": [
        {
         "name": "index",
         "rawType": "int64",
         "type": "integer"
        },
        {
         "name": "Model",
         "rawType": "object",
         "type": "string"
        },
        {
         "name": "Train_R²",
         "rawType": "object",
         "type": "string"
        },
        {
         "name": "Test_R²",
         "rawType": "object",
         "type": "string"
        },
        {
         "name": "Train_RMSE",
         "rawType": "object",
         "type": "string"
        },
        {
         "name": "Test_RMSE",
         "rawType": "object",
         "type": "string"
        },
        {
         "name": "Train_MAE",
         "rawType": "object",
         "type": "string"
        },
        {
         "name": "Test_MAE",
         "rawType": "object",
         "type": "string"
        },
        {
         "name": "Train_%RMSE",
         "rawType": "object",
         "type": "string"
        },
        {
         "name": "Test_%RMSE",
         "rawType": "object",
         "type": "string"
        }
       ],
       "conversionMethod": "pd.DataFrame",
       "ref": "7af9d636-1aa8-474e-a918-249868055bf4",
       "rows": [
        [
         "0",
         "Linear Regression",
         "0.93",
         "0.89",
         "12592.29",
         "16714.94",
         "9182.55",
         "11927.44",
         "12.39",
         "17.10"
        ],
        [
         "1",
         "Random Forest",
         "0.98",
         "0.87",
         "6876.53",
         "18359.71",
         "4519.51",
         "11355.48",
         "6.76",
         "18.79"
        ],
        [
         "2",
         "XGBoost",
         "0.98",
         "0.86",
         "6678.56",
         "18555.69",
         "4651.30",
         "12235.51",
         "6.57",
         "18.99"
        ],
        [
         "3",
         "Neural Network",
         "0.95",
         "0.90",
         "10999.05",
         "15604.75",
         "7908.52",
         "10978.55",
         "10.82",
         "15.97"
        ]
       ],
       "shape": {
        "columns": 9,
        "rows": 4
       }
      },
      "text/html": [
       "<div>\n",
       "<style scoped>\n",
       "    .dataframe tbody tr th:only-of-type {\n",
       "        vertical-align: middle;\n",
       "    }\n",
       "\n",
       "    .dataframe tbody tr th {\n",
       "        vertical-align: top;\n",
       "    }\n",
       "\n",
       "    .dataframe thead th {\n",
       "        text-align: right;\n",
       "    }\n",
       "</style>\n",
       "<table border=\"1\" class=\"dataframe\">\n",
       "  <thead>\n",
       "    <tr style=\"text-align: right;\">\n",
       "      <th></th>\n",
       "      <th>Model</th>\n",
       "      <th>Train_R²</th>\n",
       "      <th>Test_R²</th>\n",
       "      <th>Train_RMSE</th>\n",
       "      <th>Test_RMSE</th>\n",
       "      <th>Train_MAE</th>\n",
       "      <th>Test_MAE</th>\n",
       "      <th>Train_%RMSE</th>\n",
       "      <th>Test_%RMSE</th>\n",
       "    </tr>\n",
       "  </thead>\n",
       "  <tbody>\n",
       "    <tr>\n",
       "      <th>0</th>\n",
       "      <td>Linear Regression</td>\n",
       "      <td>0.93</td>\n",
       "      <td>0.89</td>\n",
       "      <td>12592.29</td>\n",
       "      <td>16714.94</td>\n",
       "      <td>9182.55</td>\n",
       "      <td>11927.44</td>\n",
       "      <td>12.39</td>\n",
       "      <td>17.10</td>\n",
       "    </tr>\n",
       "    <tr>\n",
       "      <th>1</th>\n",
       "      <td>Random Forest</td>\n",
       "      <td>0.98</td>\n",
       "      <td>0.87</td>\n",
       "      <td>6876.53</td>\n",
       "      <td>18359.71</td>\n",
       "      <td>4519.51</td>\n",
       "      <td>11355.48</td>\n",
       "      <td>6.76</td>\n",
       "      <td>18.79</td>\n",
       "    </tr>\n",
       "    <tr>\n",
       "      <th>2</th>\n",
       "      <td>XGBoost</td>\n",
       "      <td>0.98</td>\n",
       "      <td>0.86</td>\n",
       "      <td>6678.56</td>\n",
       "      <td>18555.69</td>\n",
       "      <td>4651.30</td>\n",
       "      <td>12235.51</td>\n",
       "      <td>6.57</td>\n",
       "      <td>18.99</td>\n",
       "    </tr>\n",
       "    <tr>\n",
       "      <th>3</th>\n",
       "      <td>Neural Network</td>\n",
       "      <td>0.95</td>\n",
       "      <td>0.90</td>\n",
       "      <td>10999.05</td>\n",
       "      <td>15604.75</td>\n",
       "      <td>7908.52</td>\n",
       "      <td>10978.55</td>\n",
       "      <td>10.82</td>\n",
       "      <td>15.97</td>\n",
       "    </tr>\n",
       "  </tbody>\n",
       "</table>\n",
       "</div>"
      ],
      "text/plain": [
       "               Model Train_R² Test_R² Train_RMSE Test_RMSE Train_MAE  \\\n",
       "0  Linear Regression     0.93    0.89   12592.29  16714.94   9182.55   \n",
       "1      Random Forest     0.98    0.87    6876.53  18359.71   4519.51   \n",
       "2            XGBoost     0.98    0.86    6678.56  18555.69   4651.30   \n",
       "3     Neural Network     0.95    0.90   10999.05  15604.75   7908.52   \n",
       "\n",
       "   Test_MAE Train_%RMSE Test_%RMSE  \n",
       "0  11927.44       12.39      17.10  \n",
       "1  11355.48        6.76      18.79  \n",
       "2  12235.51        6.57      18.99  \n",
       "3  10978.55       10.82      15.97  "
      ]
     },
     "execution_count": 97,
     "metadata": {},
     "output_type": "execute_result"
    }
   ],
   "source": [
    "# Evaluatiing models\n",
    "def evaluate_models(models, X_train, y_train, X_test, y_test, scaler_y):\n",
    "    results = []  \n",
    "    for name, model in models.items():\n",
    "        y_train_pred_scaled = model.predict(X_train)\n",
    "        y_test_pred_scaled = model.predict(X_test)\n",
    "\n",
    "        # Inverse scale predictions\n",
    "        y_train_pred = scaler_y.inverse_transform(y_train_pred_scaled.reshape(-1, 1)).ravel()\n",
    "        y_test_pred = scaler_y.inverse_transform(y_test_pred_scaled.reshape(-1, 1)).ravel()\n",
    "\n",
    "        # Compute training and test metrics\n",
    "        train_metrics = compute_metrics(y_train, y_train_pred)\n",
    "        test_metrics = compute_metrics(y_test, y_test_pred)\n",
    "\n",
    "        # Append results\n",
    "        results.append({\n",
    "            \"Model\": name,\n",
    "            \"Train_R²\": train_metrics[\"R²\"],\n",
    "            \"Test_R²\": test_metrics[\"R²\"],\n",
    "            \"Train_RMSE\": train_metrics[\"RMSE\"],\n",
    "            \"Test_RMSE\": test_metrics[\"RMSE\"],\n",
    "            \"Train_MAE\": train_metrics[\"MAE\"],\n",
    "            \"Test_MAE\": test_metrics[\"MAE\"],\n",
    "            \"Train_%RMSE\": train_metrics[\"%RMSE\"],\n",
    "            \"Test_%RMSE\": test_metrics[\"%RMSE\"]\n",
    "        })\n",
    "\n",
    "    # DataFrame\n",
    "    df_results = pd.DataFrame(results)\n",
    "    return df_results\n",
    "\n",
    "# Apply this function to all trained models\n",
    "df_results = evaluate_models(best_models, X_train, y_train, X_test, y_test, scaler_y)\n",
    "df_results"
   ]
  },
  {
   "cell_type": "markdown",
   "metadata": {},
   "source": [
    "### Cross-Validation"
   ]
  },
  {
   "cell_type": "code",
   "execution_count": 98,
   "metadata": {},
   "outputs": [
    {
     "data": {
      "application/vnd.microsoft.datawrangler.viewer.v0+json": {
       "columns": [
        {
         "name": "index",
         "rawType": "int64",
         "type": "integer"
        },
        {
         "name": "Model",
         "rawType": "object",
         "type": "string"
        },
        {
         "name": "CV_Mean_R²",
         "rawType": "float64",
         "type": "float"
        },
        {
         "name": "CV_Std_R²",
         "rawType": "float64",
         "type": "float"
        }
       ],
       "conversionMethod": "pd.DataFrame",
       "ref": "791d26ee-61b2-4bfc-8916-46c505eeb42d",
       "rows": [
        [
         "0",
         "Linear Regression",
         "0.9",
         "0.05"
        ],
        [
         "1",
         "Random Forest",
         "0.89",
         "0.07"
        ],
        [
         "2",
         "XGBoost",
         "0.9",
         "0.06"
        ],
        [
         "3",
         "Neural Network",
         "0.91",
         "0.04"
        ]
       ],
       "shape": {
        "columns": 3,
        "rows": 4
       }
      },
      "text/html": [
       "<div>\n",
       "<style scoped>\n",
       "    .dataframe tbody tr th:only-of-type {\n",
       "        vertical-align: middle;\n",
       "    }\n",
       "\n",
       "    .dataframe tbody tr th {\n",
       "        vertical-align: top;\n",
       "    }\n",
       "\n",
       "    .dataframe thead th {\n",
       "        text-align: right;\n",
       "    }\n",
       "</style>\n",
       "<table border=\"1\" class=\"dataframe\">\n",
       "  <thead>\n",
       "    <tr style=\"text-align: right;\">\n",
       "      <th></th>\n",
       "      <th>Model</th>\n",
       "      <th>CV_Mean_R²</th>\n",
       "      <th>CV_Std_R²</th>\n",
       "    </tr>\n",
       "  </thead>\n",
       "  <tbody>\n",
       "    <tr>\n",
       "      <th>0</th>\n",
       "      <td>Linear Regression</td>\n",
       "      <td>0.90</td>\n",
       "      <td>0.05</td>\n",
       "    </tr>\n",
       "    <tr>\n",
       "      <th>1</th>\n",
       "      <td>Random Forest</td>\n",
       "      <td>0.89</td>\n",
       "      <td>0.07</td>\n",
       "    </tr>\n",
       "    <tr>\n",
       "      <th>2</th>\n",
       "      <td>XGBoost</td>\n",
       "      <td>0.90</td>\n",
       "      <td>0.06</td>\n",
       "    </tr>\n",
       "    <tr>\n",
       "      <th>3</th>\n",
       "      <td>Neural Network</td>\n",
       "      <td>0.91</td>\n",
       "      <td>0.04</td>\n",
       "    </tr>\n",
       "  </tbody>\n",
       "</table>\n",
       "</div>"
      ],
      "text/plain": [
       "               Model  CV_Mean_R²  CV_Std_R²\n",
       "0  Linear Regression        0.90       0.05\n",
       "1      Random Forest        0.89       0.07\n",
       "2            XGBoost        0.90       0.06\n",
       "3     Neural Network        0.91       0.04"
      ]
     },
     "execution_count": 98,
     "metadata": {},
     "output_type": "execute_result"
    }
   ],
   "source": [
    "y_scaled = scaler_y.fit_transform(y.values.reshape(-1, 1)).ravel()\n",
    "\n",
    "def cross_validate_models(models, X, y, cv=5):\n",
    "    results = []\n",
    "\n",
    "    y_scaled = scaler_y.fit_transform(y.values.reshape(-1, 1)).ravel()\n",
    "\n",
    "    for name, model in models.items():\n",
    "        scores = cross_val_score(model, X, y_scaled, cv=cv, scoring='r2', n_jobs=-1)\n",
    "        \n",
    "        # Append results\n",
    "        results.append({\n",
    "            \"Model\": name,\n",
    "            \"CV_Mean_R²\": round(scores.mean(), 2),\n",
    "            \"CV_Std_R²\": round(scores.std(), 2)\n",
    "        })\n",
    "\n",
    "    # DataFrame\n",
    "    df_cv_results = pd.DataFrame(results)\n",
    "    return df_cv_results\n",
    "\n",
    "# Apply this function to all trained models\n",
    "df_cv_results = cross_validate_models(best_models, X, y, cv=5)\n",
    "df_cv_results"
   ]
  },
  {
   "cell_type": "markdown",
   "metadata": {},
   "source": [
    "### Conclusions\n",
    "- Linear Regression\n",
    "    - Train R²: 0.92 | Test R²: 0.93 - Train and Test R² are close what suggest is doing a good generalization.\n",
    "    - RMSE values are also close → No large performance drop.\n",
    "    - Cross-validation confirms stability (0.90 ± 0.05)\n",
    "    \n",
    "- Random Forest: \n",
    "    - Train R²: 0.97 | Test R²: 0.93 - R2 Train is much grater than Test R2, the model is overfitting.\n",
    "    - Train RMSE (8432.13) vs Test RMSE (12637.87) - Large gap suggests overfitting\n",
    "    \n",
    "- XGBoost\n",
    "    - Train R²: 0.98 | Test R²: 0.94 and Train RMSE: 7306.06 | Test RMSE: 12102.86 the model is overfitting.\n",
    "    - Cross-validation is stable (0.90 ± 0.05)\n",
    "    - Second best model with a slight overfitting bus stable performance.\n",
    "\n",
    "- Neural Network:\n",
    "    - Train R²: 0.95 | Test R²: 0.96 and Train RMSE: 10943.24 | Test RMSE: 9880.52 shows a balance model and no major overfitting despite being a more complex model.\n",
    "    - Cross-Validation shows highest mean R² (0.92) with lowest variance (±0.03) suggesting a strong generalization to unseen data.\n",
    "    - Best overall model"
   ]
  },
  {
   "cell_type": "code",
   "execution_count": 102,
   "metadata": {},
   "outputs": [
    {
     "data": {
      "text/plain": [
       "{'MAE': (23193.23519734433, 28890.572871917),\n",
       " 'RMSE': (26352.412406106687, 33202.06515806867),\n",
       " 'R²': (0.5375846715015753, 0.7228100968077866)}"
      ]
     },
     "execution_count": 102,
     "metadata": {},
     "output_type": "execute_result"
    }
   ],
   "source": [
    "# Bootstrap metrics and resample number\n",
    "boot_metrics = {\"MAE\": [], \"RMSE\": [], \"R²\": []}\n",
    "num_bootstrap = 1000\n",
    "\n",
    "# Bootstrap loop\n",
    "\n",
    "for _ in range(num_bootstrap):\n",
    "    indices = np.random.choice(len(y_test), size=len(y_test), replace=True)\n",
    "   \n",
    "    y_test_sample = y_test.iloc[indices]\n",
    "\n",
    "    y_pred_scaled = best_models[\"Neural Network\"].predict(X_test.iloc[indices]) \n",
    "    y_pred_sample = scaler_y.inverse_transform(y_pred_scaled.reshape(-1, 1)).ravel()\n",
    "\n",
    "    boot_metrics[\"MAE\"].append(mean_absolute_error(y_test_sample, y_pred_sample))\n",
    "    boot_metrics[\"RMSE\"].append(root_mean_squared_error(y_test_sample, y_pred_sample))\n",
    "    boot_metrics[\"R²\"].append(r2_score(y_test_sample, y_pred_sample))\n",
    "\n",
    "ci_95 = {metric: (np.percentile(values, 2.5), np.percentile(values, 97.5)) for metric, values in boot_metrics.items()}\n",
    "ci_95\n"
   ]
  },
  {
   "cell_type": "code",
   "execution_count": 100,
   "metadata": {},
   "outputs": [
    {
     "ename": "TypeError",
     "evalue": "got an unexpected keyword argument 'squared'",
     "output_type": "error",
     "traceback": [
      "\u001b[1;31m---------------------------------------------------------------------------\u001b[0m",
      "\u001b[1;31mTypeError\u001b[0m                                 Traceback (most recent call last)",
      "Cell \u001b[1;32mIn[100], line 16\u001b[0m\n\u001b[0;32m     13\u001b[0m     y_pred_sample \u001b[38;5;241m=\u001b[39m scaler_y\u001b[38;5;241m.\u001b[39minverse_transform(y_pred_scaled\u001b[38;5;241m.\u001b[39mreshape(\u001b[38;5;241m-\u001b[39m\u001b[38;5;241m1\u001b[39m, \u001b[38;5;241m1\u001b[39m))\u001b[38;5;241m.\u001b[39mravel()\n\u001b[0;32m     15\u001b[0m     boot_metrics[\u001b[38;5;124m\"\u001b[39m\u001b[38;5;124mMAE\u001b[39m\u001b[38;5;124m\"\u001b[39m]\u001b[38;5;241m.\u001b[39mappend(mean_absolute_error(y_test_sample, y_pred_sample))\n\u001b[1;32m---> 16\u001b[0m     boot_metrics[\u001b[38;5;124m\"\u001b[39m\u001b[38;5;124mRMSE\u001b[39m\u001b[38;5;124m\"\u001b[39m]\u001b[38;5;241m.\u001b[39mappend(\u001b[43mroot_mean_squared_error\u001b[49m\u001b[43m(\u001b[49m\u001b[43my_test_sample\u001b[49m\u001b[43m,\u001b[49m\u001b[43m \u001b[49m\u001b[43my_pred_sample\u001b[49m\u001b[43m,\u001b[49m\u001b[43m \u001b[49m\u001b[43msquared\u001b[49m\u001b[38;5;241;43m=\u001b[39;49m\u001b[38;5;28;43;01mFalse\u001b[39;49;00m\u001b[43m)\u001b[49m)\n\u001b[0;32m     17\u001b[0m     boot_metrics[\u001b[38;5;124m\"\u001b[39m\u001b[38;5;124mR²\u001b[39m\u001b[38;5;124m\"\u001b[39m]\u001b[38;5;241m.\u001b[39mappend(r2_score(y_test_sample, y_pred_sample))\n\u001b[0;32m     19\u001b[0m ci_95 \u001b[38;5;241m=\u001b[39m {metric: (np\u001b[38;5;241m.\u001b[39mpercentile(values, \u001b[38;5;241m2.5\u001b[39m), np\u001b[38;5;241m.\u001b[39mpercentile(values, \u001b[38;5;241m97.5\u001b[39m)) \u001b[38;5;28;01mfor\u001b[39;00m metric, values \u001b[38;5;129;01min\u001b[39;00m boot_metrics\u001b[38;5;241m.\u001b[39mitems()}\n",
      "File \u001b[1;32mc:\\Users\\Hernán\\AppData\\Local\\Programs\\Python\\Python312\\Lib\\site-packages\\sklearn\\utils\\_param_validation.py:191\u001b[0m, in \u001b[0;36mvalidate_params.<locals>.decorator.<locals>.wrapper\u001b[1;34m(*args, **kwargs)\u001b[0m\n\u001b[0;32m    188\u001b[0m func_sig \u001b[38;5;241m=\u001b[39m signature(func)\n\u001b[0;32m    190\u001b[0m \u001b[38;5;66;03m# Map *args/**kwargs to the function signature\u001b[39;00m\n\u001b[1;32m--> 191\u001b[0m params \u001b[38;5;241m=\u001b[39m \u001b[43mfunc_sig\u001b[49m\u001b[38;5;241;43m.\u001b[39;49m\u001b[43mbind\u001b[49m\u001b[43m(\u001b[49m\u001b[38;5;241;43m*\u001b[39;49m\u001b[43margs\u001b[49m\u001b[43m,\u001b[49m\u001b[43m \u001b[49m\u001b[38;5;241;43m*\u001b[39;49m\u001b[38;5;241;43m*\u001b[39;49m\u001b[43mkwargs\u001b[49m\u001b[43m)\u001b[49m\n\u001b[0;32m    192\u001b[0m params\u001b[38;5;241m.\u001b[39mapply_defaults()\n\u001b[0;32m    194\u001b[0m \u001b[38;5;66;03m# ignore self/cls and positional/keyword markers\u001b[39;00m\n",
      "File \u001b[1;32mc:\\Users\\Hernán\\AppData\\Local\\Programs\\Python\\Python312\\Lib\\inspect.py:3259\u001b[0m, in \u001b[0;36mSignature.bind\u001b[1;34m(self, *args, **kwargs)\u001b[0m\n\u001b[0;32m   3254\u001b[0m \u001b[38;5;28;01mdef\u001b[39;00m \u001b[38;5;21mbind\u001b[39m(\u001b[38;5;28mself\u001b[39m, \u001b[38;5;241m/\u001b[39m, \u001b[38;5;241m*\u001b[39margs, \u001b[38;5;241m*\u001b[39m\u001b[38;5;241m*\u001b[39mkwargs):\n\u001b[0;32m   3255\u001b[0m \u001b[38;5;250m    \u001b[39m\u001b[38;5;124;03m\"\"\"Get a BoundArguments object, that maps the passed `args`\u001b[39;00m\n\u001b[0;32m   3256\u001b[0m \u001b[38;5;124;03m    and `kwargs` to the function's signature.  Raises `TypeError`\u001b[39;00m\n\u001b[0;32m   3257\u001b[0m \u001b[38;5;124;03m    if the passed arguments can not be bound.\u001b[39;00m\n\u001b[0;32m   3258\u001b[0m \u001b[38;5;124;03m    \"\"\"\u001b[39;00m\n\u001b[1;32m-> 3259\u001b[0m     \u001b[38;5;28;01mreturn\u001b[39;00m \u001b[38;5;28;43mself\u001b[39;49m\u001b[38;5;241;43m.\u001b[39;49m\u001b[43m_bind\u001b[49m\u001b[43m(\u001b[49m\u001b[43margs\u001b[49m\u001b[43m,\u001b[49m\u001b[43m \u001b[49m\u001b[43mkwargs\u001b[49m\u001b[43m)\u001b[49m\n",
      "File \u001b[1;32mc:\\Users\\Hernán\\AppData\\Local\\Programs\\Python\\Python312\\Lib\\inspect.py:3248\u001b[0m, in \u001b[0;36mSignature._bind\u001b[1;34m(self, args, kwargs, partial)\u001b[0m\n\u001b[0;32m   3246\u001b[0m         arguments[kwargs_param\u001b[38;5;241m.\u001b[39mname] \u001b[38;5;241m=\u001b[39m kwargs\n\u001b[0;32m   3247\u001b[0m     \u001b[38;5;28;01melse\u001b[39;00m:\n\u001b[1;32m-> 3248\u001b[0m         \u001b[38;5;28;01mraise\u001b[39;00m \u001b[38;5;167;01mTypeError\u001b[39;00m(\n\u001b[0;32m   3249\u001b[0m             \u001b[38;5;124m'\u001b[39m\u001b[38;5;124mgot an unexpected keyword argument \u001b[39m\u001b[38;5;132;01m{arg!r}\u001b[39;00m\u001b[38;5;124m'\u001b[39m\u001b[38;5;241m.\u001b[39mformat(\n\u001b[0;32m   3250\u001b[0m                 arg\u001b[38;5;241m=\u001b[39m\u001b[38;5;28mnext\u001b[39m(\u001b[38;5;28miter\u001b[39m(kwargs))))\n\u001b[0;32m   3252\u001b[0m \u001b[38;5;28;01mreturn\u001b[39;00m \u001b[38;5;28mself\u001b[39m\u001b[38;5;241m.\u001b[39m_bound_arguments_cls(\u001b[38;5;28mself\u001b[39m, arguments)\n",
      "\u001b[1;31mTypeError\u001b[0m: got an unexpected keyword argument 'squared'"
     ]
    }
   ],
   "source": [
    "# Bootstrap metrics and resample number\n",
    "boot_metrics = {\"MAE\": [], \"RMSE\": [], \"R²\": []}\n",
    "num_bootstrap = 1\n",
    "\n",
    "# Bootstrap loop\n",
    "\n",
    "for _ in range(num_bootstrap):\n",
    "    indices = np.random.choice(len(y_test), size=len(y_test), replace=True)\n",
    "    \n",
    "    y_test_sample = y_test.iloc[indices]\n",
    "    y_pred_scaled = best_models[\"Neural Network\"].predict(X_test.iloc[indices])  # <-- USAR .iloc[]\n",
    "    \n",
    "    y_pred_sample = scaler_y.inverse_transform(y_pred_scaled.reshape(-1, 1)).ravel()\n",
    "\n",
    "    boot_metrics[\"MAE\"].append(mean_absolute_error(y_test_sample, y_pred_sample))\n",
    "    boot_metrics[\"RMSE\"].append(root_mean_squared_error(y_test_sample, y_pred_sample, squared=False))\n",
    "    boot_metrics[\"R²\"].append(r2_score(y_test_sample, y_pred_sample))\n",
    "\n",
    "ci_95 = {metric: (np.percentile(values, 2.5), np.percentile(values, 97.5)) for metric, values in boot_metrics.items()}\n",
    "\n",
    "print(\"95% Confidence Intervals:\", ci_95)\n",
    "\n",
    "for _ in range(num_bootstrap):\n",
    "    y_pred_scaled = best_models[\"Neural Network\"].predict(X_test.iloc[indices])\n",
    "\n",
    "    print(\"Shape antes de inversa:\", y_pred_scaled.shape)\n",
    "    y_pred_sample = scaler_y.inverse_transform(y_pred_scaled.reshape(-1, 1)).ravel()\n",
    "    print(\"Shape después de inversa:\", y_pred_sample.shape)\n",
    "\n",
    "    print(f\"Min y_pred_sample: {y_pred_sample.min()}, Max y_pred_sample: {y_pred_sample.max()}\")\n",
    "    print(f\"Min y_test_sample: {y_test_sample.min()}, Max y_test_sample: {y_test_sample.max()}\")\n",
    "\n",
    "    indices = np.random.choice(len(y_test), size=len(y_test), replace=True)\n",
    "    y_test_sample = y_test.iloc[indices]  # index selection\n",
    "    y_pred_sample = scaler_y.inverse_transform(best_models[\"Neural Network\"].predict(X_test.iloc[indices]).reshape(-1, 1)).ravel()\n",
    "    \n",
    "    # Guardar métricas\n",
    "    boot_metrics[\"MAE\"].append(mean_absolute_error(y_test_sample, y_pred_sample))\n",
    "    boot_metrics[\"RMSE\"].append(root_mean_squared_error(y_test_sample, y_pred_sample))\n",
    "    boot_metrics[\"R²\"].append(r2_score(y_test_sample, y_pred_sample))\n",
    "\n",
    "# Calculate 95% confidence intervals\n",
    "ci_95 = {metric: (np.percentile(values, 2.5), np.percentile(values, 97.5)) for metric, values in boot_metrics.items()}\n",
    "\n",
    "# Convertir resultados en DataFrame\n",
    "df_ci_95 = pd.DataFrame(ci_95, index=[\"Lower Bound\", \"Upper Bound\"]).T\n",
    "\n",
    "# Mostrar resultados\n",
    "df_ci_95"
   ]
  },
  {
   "cell_type": "code",
   "execution_count": null,
   "metadata": {},
   "outputs": [
    {
     "data": {
      "image/png": "[encoded data removed]",
      "text/plain": [
       "<Figure size 640x480 with 1 Axes>"
      ]
     },
     "metadata": {},
     "output_type": "display_data"
    }
   ],
   "source": [
    "plt.scatter(y_test, y_pred_sample, alpha=0.5)\n",
    "plt.xlabel(\"Actual Values\")\n",
    "plt.ylabel(\"Predicted Values\")\n",
    "plt.title(\"Actual vs. Predicted (Bootstrap)\")\n",
    "plt.show()"
   ]
  },
  {
   "cell_type": "code",
   "execution_count": null,
   "metadata": {},
   "outputs": [
    {
     "name": "stdout",
     "output_type": "stream",
     "text": [
      "R² en Test Set Completo: 0.7707305637008757\n"
     ]
    }
   ],
   "source": [
    "y_pred_full = best_models[\"Neural Network\"].predict(X_test)\n",
    "y_pred_full = scaler_y.inverse_transform(y_pred_full.reshape(-1, 1)).ravel()\n",
    "\n",
    "print(\"R² en Test Set Completo:\", r2_score(y_test, y_pred_full))"
   ]
  }
 ],
 "metadata": {
  "kernelspec": {
   "display_name": "Python 3",
   "language": "python",
   "name": "python3"
  },
  "language_info": {
   "codemirror_mode": {
    "name": "ipython",
    "version": 3
   },
   "file_extension": ".py",
   "mimetype": "text/x-python",
   "name": "python",
   "nbconvert_exporter": "python",
   "pygments_lexer": "ipython3",
   "version": "3.12.1"
  }
 },
 "nbformat": 4,
 "nbformat_minor": 2
}
